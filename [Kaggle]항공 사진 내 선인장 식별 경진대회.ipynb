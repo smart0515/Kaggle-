{
 "cells": [
  {
   "cell_type": "markdown",
   "id": "dc71026b",
   "metadata": {
    "papermill": {
     "duration": 0.009993,
     "end_time": "2022-11-25T05:28:26.945490",
     "exception": false,
     "start_time": "2022-11-25T05:28:26.935497",
     "status": "completed"
    },
    "tags": []
   },
   "source": [
    "## 11.2 항공 사진 내 선인장 식별 경진대회 탐색적 데이터 분석\n",
    "- 항공 사진 내 선인장 식별 경진대회 링크"
   ]
  },
  {
   "cell_type": "markdown",
   "id": "dbb85e8d",
   "metadata": {
    "papermill": {
     "duration": 0.008169,
     "end_time": "2022-11-25T05:28:26.962496",
     "exception": false,
     "start_time": "2022-11-25T05:28:26.954327",
     "status": "completed"
    },
    "tags": []
   },
   "source": [
    "### 11.2.1 데이터 둘러보기"
   ]
  },
  {
   "cell_type": "code",
   "execution_count": 1,
   "id": "09c2f677",
   "metadata": {
    "_cell_guid": "b1076dfc-b9ad-4769-8c92-a6c4dae69d19",
    "_uuid": "8f2839f25d086af736a60e9eeb907d3b93b6e0e5",
    "execution": {
     "iopub.execute_input": "2022-11-25T05:28:26.981665Z",
     "iopub.status.busy": "2022-11-25T05:28:26.980883Z",
     "iopub.status.idle": "2022-11-25T05:28:27.058010Z",
     "shell.execute_reply": "2022-11-25T05:28:27.055241Z"
    },
    "papermill": {
     "duration": 0.090729,
     "end_time": "2022-11-25T05:28:27.061808",
     "exception": false,
     "start_time": "2022-11-25T05:28:26.971079",
     "status": "completed"
    },
    "tags": []
   },
   "outputs": [
    {
     "data": {
      "text/plain": [
       "((14500, 2), (3000, 2))"
      ]
     },
     "execution_count": 1,
     "metadata": {},
     "output_type": "execute_result"
    }
   ],
   "source": [
    "import pandas as pd\n",
    "\n",
    "# 데이터 경로\n",
    "data_path = '../input/2022-2-ds-solution-ch9/'\n",
    "\n",
    "labels = pd.read_csv(data_path + 'train.csv')\n",
    "submission = pd.read_csv(data_path + 'sample_submission.csv')\n",
    "labels.shape, submission.shape"
   ]
  },
  {
   "cell_type": "code",
   "execution_count": 2,
   "id": "84ebf5b1",
   "metadata": {
    "execution": {
     "iopub.execute_input": "2022-11-25T05:28:27.101365Z",
     "iopub.status.busy": "2022-11-25T05:28:27.100988Z",
     "iopub.status.idle": "2022-11-25T05:28:27.124101Z",
     "shell.execute_reply": "2022-11-25T05:28:27.122910Z"
    },
    "papermill": {
     "duration": 0.046892,
     "end_time": "2022-11-25T05:28:27.129278",
     "exception": false,
     "start_time": "2022-11-25T05:28:27.082386",
     "status": "completed"
    },
    "tags": []
   },
   "outputs": [
    {
     "data": {
      "text/html": [
       "<div>\n",
       "<style scoped>\n",
       "    .dataframe tbody tr th:only-of-type {\n",
       "        vertical-align: middle;\n",
       "    }\n",
       "\n",
       "    .dataframe tbody tr th {\n",
       "        vertical-align: top;\n",
       "    }\n",
       "\n",
       "    .dataframe thead th {\n",
       "        text-align: right;\n",
       "    }\n",
       "</style>\n",
       "<table border=\"1\" class=\"dataframe\">\n",
       "  <thead>\n",
       "    <tr style=\"text-align: right;\">\n",
       "      <th></th>\n",
       "      <th>id</th>\n",
       "      <th>has_cactus</th>\n",
       "    </tr>\n",
       "  </thead>\n",
       "  <tbody>\n",
       "    <tr>\n",
       "      <th>0</th>\n",
       "      <td>0004be2cfeaba1c0361d39e2b000257b.jpg</td>\n",
       "      <td>1</td>\n",
       "    </tr>\n",
       "    <tr>\n",
       "      <th>1</th>\n",
       "      <td>000c8a36845c0208e833c79c1bffedd1.jpg</td>\n",
       "      <td>1</td>\n",
       "    </tr>\n",
       "    <tr>\n",
       "      <th>2</th>\n",
       "      <td>000d1e9a533f62e55c289303b072733d.jpg</td>\n",
       "      <td>1</td>\n",
       "    </tr>\n",
       "    <tr>\n",
       "      <th>3</th>\n",
       "      <td>0011485b40695e9138e92d0b3fb55128.jpg</td>\n",
       "      <td>1</td>\n",
       "    </tr>\n",
       "    <tr>\n",
       "      <th>4</th>\n",
       "      <td>0014d7a11e90b62848904c1418fc8cf2.jpg</td>\n",
       "      <td>1</td>\n",
       "    </tr>\n",
       "  </tbody>\n",
       "</table>\n",
       "</div>"
      ],
      "text/plain": [
       "                                     id  has_cactus\n",
       "0  0004be2cfeaba1c0361d39e2b000257b.jpg           1\n",
       "1  000c8a36845c0208e833c79c1bffedd1.jpg           1\n",
       "2  000d1e9a533f62e55c289303b072733d.jpg           1\n",
       "3  0011485b40695e9138e92d0b3fb55128.jpg           1\n",
       "4  0014d7a11e90b62848904c1418fc8cf2.jpg           1"
      ]
     },
     "execution_count": 2,
     "metadata": {},
     "output_type": "execute_result"
    }
   ],
   "source": [
    "labels.head()"
   ]
  },
  {
   "cell_type": "markdown",
   "id": "7d4b87c2",
   "metadata": {
    "papermill": {
     "duration": 0.013848,
     "end_time": "2022-11-25T05:28:27.158813",
     "exception": false,
     "start_time": "2022-11-25T05:28:27.144965",
     "status": "completed"
    },
    "tags": []
   },
   "source": [
    "### 11.2.2 데이터 시각화"
   ]
  },
  {
   "cell_type": "code",
   "execution_count": 3,
   "id": "851abbab",
   "metadata": {
    "execution": {
     "iopub.execute_input": "2022-11-25T05:28:27.190292Z",
     "iopub.status.busy": "2022-11-25T05:28:27.189846Z",
     "iopub.status.idle": "2022-11-25T05:28:27.414441Z",
     "shell.execute_reply": "2022-11-25T05:28:27.413112Z"
    },
    "papermill": {
     "duration": 0.242749,
     "end_time": "2022-11-25T05:28:27.417113",
     "exception": false,
     "start_time": "2022-11-25T05:28:27.174364",
     "status": "completed"
    },
    "tags": []
   },
   "outputs": [
    {
     "data": {
      "image/png": "[encoded data removed]",
      "text/plain": [
       "<Figure size 504x504 with 1 Axes>"
      ]
     },
     "metadata": {},
     "output_type": "display_data"
    }
   ],
   "source": [
    "import matplotlib as mpl\n",
    "import matplotlib.pyplot as plt\n",
    "%matplotlib inline\n",
    "\n",
    "mpl.rc('font', size=15)\n",
    "plt.figure(figsize=(7, 7))\n",
    "\n",
    "label = ['Has cactus', 'Hasn\\'t cactus'] # 타깃값 레이블\n",
    "# 타깃값 분포 파이 그래프\n",
    "plt.pie(labels['has_cactus'].value_counts(), labels=label, autopct='%.1f%%');"
   ]
  },
  {
   "cell_type": "markdown",
   "id": "cc30fc9e",
   "metadata": {
    "papermill": {
     "duration": 0.026876,
     "end_time": "2022-11-25T05:28:27.462845",
     "exception": false,
     "start_time": "2022-11-25T05:28:27.435969",
     "status": "completed"
    },
    "tags": []
   },
   "source": [
    "이미지 로드 및 출력"
   ]
  },
  {
   "cell_type": "code",
   "execution_count": 4,
   "id": "75296420",
   "metadata": {
    "execution": {
     "iopub.execute_input": "2022-11-25T05:28:27.491071Z",
     "iopub.status.busy": "2022-11-25T05:28:27.490651Z",
     "iopub.status.idle": "2022-11-25T05:28:27.760995Z",
     "shell.execute_reply": "2022-11-25T05:28:27.759715Z"
    },
    "papermill": {
     "duration": 0.286817,
     "end_time": "2022-11-25T05:28:27.763214",
     "exception": false,
     "start_time": "2022-11-25T05:28:27.476397",
     "status": "completed"
    },
    "tags": []
   },
   "outputs": [
    {
     "name": "stdout",
     "output_type": "stream",
     "text": [
      "훈련 데이터 개수: 14500\n",
      "테스트 데이터 개수: 3000\n"
     ]
    }
   ],
   "source": [
    "import os\n",
    "path_train = '../input/2022-2-ds-solution-ch9/train'\n",
    "path_test = '../input/2022-2-ds-solution-ch9/test'\n",
    "\n",
    "num_train = len(os.listdir(path_train))\n",
    "num_test = len(os.listdir(path_test))\n",
    "\n",
    "print(f'훈련 데이터 개수: {num_train}')\n",
    "print(f'테스트 데이터 개수: {num_test}')"
   ]
  },
  {
   "cell_type": "code",
   "execution_count": 5,
   "id": "1e27406f",
   "metadata": {
    "execution": {
     "iopub.execute_input": "2022-11-25T05:28:27.784021Z",
     "iopub.status.busy": "2022-11-25T05:28:27.783709Z",
     "iopub.status.idle": "2022-11-25T05:28:29.350577Z",
     "shell.execute_reply": "2022-11-25T05:28:29.349610Z"
    },
    "papermill": {
     "duration": 1.580286,
     "end_time": "2022-11-25T05:28:29.352958",
     "exception": false,
     "start_time": "2022-11-25T05:28:27.772672",
     "status": "completed"
    },
    "tags": []
   },
   "outputs": [
    {
     "data": {
      "image/png": "[encoded data removed]",
      "text/plain": [
       "<Figure size 1080x432 with 12 Axes>"
      ]
     },
     "metadata": {
      "needs_background": "light"
     },
     "output_type": "display_data"
    }
   ],
   "source": [
    "# 레이블이 1인 경우\n",
    "import matplotlib.gridspec as gridspec\n",
    "import cv2 # OpenCV 라이브러리 임포트\n",
    "\n",
    "mpl.rc('font', size=7)\n",
    "plt.figure(figsize=(15, 6))    # 전체 Figure 크기 설정\n",
    "grid = gridspec.GridSpec(2, 6) # 서브플롯 배치(2행 6열로 출력)\n",
    "    \n",
    "# 선인장을 포함하는 이미지 파일명(마지막 12개) \n",
    "last_has_cactus_img_name = labels[labels['has_cactus']==1]['id'][-12:]\n",
    "\n",
    "# 이미지 출력 \n",
    "for idx, img_name in enumerate(last_has_cactus_img_name):\n",
    "    img_path = path_train+ '/' + img_name                 # 이미지 파일 경로 \n",
    "    image = cv2.imread(img_path)                   # 이미지 파일 읽기 \n",
    "    image = cv2.cvtColor(image, cv2.COLOR_BGR2RGB) # 이미지 색상 보정 \n",
    "    ax = plt.subplot(grid[idx])\n",
    "    ax.imshow(image)                               # 이미지 출력 "
   ]
  },
  {
   "cell_type": "code",
   "execution_count": 6,
   "id": "15b42903",
   "metadata": {
    "execution": {
     "iopub.execute_input": "2022-11-25T05:28:29.375230Z",
     "iopub.status.busy": "2022-11-25T05:28:29.374923Z",
     "iopub.status.idle": "2022-11-25T05:28:30.632987Z",
     "shell.execute_reply": "2022-11-25T05:28:30.632100Z"
    },
    "papermill": {
     "duration": 1.271551,
     "end_time": "2022-11-25T05:28:30.635309",
     "exception": false,
     "start_time": "2022-11-25T05:28:29.363758",
     "status": "completed"
    },
    "tags": []
   },
   "outputs": [
    {
     "data": {
      "image/png": "[encoded data removed]",
      "text/plain": [
       "<Figure size 1080x432 with 12 Axes>"
      ]
     },
     "metadata": {
      "needs_background": "light"
     },
     "output_type": "display_data"
    }
   ],
   "source": [
    "# 레이블이 0인 경우\n",
    "plt.figure(figsize=(15, 6))    # 전체 Figure 크기 설정\n",
    "grid = gridspec.GridSpec(2, 6) # 서브플롯 배치\n",
    "    \n",
    "# 선인장을 포함하지 않는 이미지 파일명(마지막 12개) \n",
    "last_hasnt_cactus_img_name = labels[labels['has_cactus']==0]['id'][-12:]\n",
    "\n",
    "# 이미지 출력 \n",
    "for idx, img_name in enumerate(last_hasnt_cactus_img_name):\n",
    "    img_path = path_train+ '/' + img_name                 # 이미지 파일 경로\n",
    "    image = cv2.imread(img_path)                   # 이미지 파일 읽기\n",
    "    image = cv2.cvtColor(image, cv2.COLOR_BGR2RGB) # 이미지 색상 보정\n",
    "    ax = plt.subplot(grid[idx])\n",
    "    ax.imshow(image)                               # 이미지 출력 "
   ]
  },
  {
   "cell_type": "markdown",
   "id": "237a9524",
   "metadata": {
    "papermill": {
     "duration": 0.010854,
     "end_time": "2022-11-25T05:28:30.657316",
     "exception": false,
     "start_time": "2022-11-25T05:28:30.646462",
     "status": "completed"
    },
    "tags": []
   },
   "source": [
    "## 11.3 항공 사진 내 선인장 식별 경진대회 베이스라인 모델\n"
   ]
  },
  {
   "cell_type": "markdown",
   "id": "d6f92e77",
   "metadata": {
    "papermill": {
     "duration": 0.010354,
     "end_time": "2022-11-25T05:28:30.678494",
     "exception": false,
     "start_time": "2022-11-25T05:28:30.668140",
     "status": "completed"
    },
    "tags": []
   },
   "source": [
    "### 11.3.1 시드 값 고정 및 GPU 장비 설정"
   ]
  },
  {
   "cell_type": "code",
   "execution_count": 7,
   "id": "458dcc24",
   "metadata": {
    "execution": {
     "iopub.execute_input": "2022-11-25T05:28:30.701201Z",
     "iopub.status.busy": "2022-11-25T05:28:30.700909Z",
     "iopub.status.idle": "2022-11-25T05:28:32.636275Z",
     "shell.execute_reply": "2022-11-25T05:28:32.635145Z"
    },
    "papermill": {
     "duration": 1.949917,
     "end_time": "2022-11-25T05:28:32.639122",
     "exception": false,
     "start_time": "2022-11-25T05:28:30.689205",
     "status": "completed"
    },
    "tags": []
   },
   "outputs": [],
   "source": [
    "import torch # 파이토치 \n",
    "import random\n",
    "import numpy as np\n",
    "import os\n",
    "\n",
    "# 시드값 고정\n",
    "seed = 50\n",
    "os.environ['PYTHONHASHSEED'] = str(seed)\n",
    "random.seed(seed)                # 파이썬 난수 생성기 시드 고정\n",
    "np.random.seed(seed)             # 넘파이 난수 생성기 시드 고정\n",
    "torch.manual_seed(seed)          # 파이토치 난수 생성기 시드 고정 (CPU 사용 시)\n",
    "torch.cuda.manual_seed(seed)     # 파이토치 난수 생성기 시드 고정 (GPU 사용 시)\n",
    "torch.cuda.manual_seed_all(seed) # 파이토치 난수 생성기 시드 고정 (멀티GPU 사용 시)\n",
    "torch.backends.cudnn.deterministic = True # 확정적 연산 사용\n",
    "torch.backends.cudnn.benchmark = False    # 벤치마크 기능 해제\n",
    "torch.backends.cudnn.enabled = False      # cudnn 사용 해제"
   ]
  },
  {
   "cell_type": "code",
   "execution_count": 8,
   "id": "c16a892e",
   "metadata": {
    "execution": {
     "iopub.execute_input": "2022-11-25T05:28:32.663732Z",
     "iopub.status.busy": "2022-11-25T05:28:32.663217Z",
     "iopub.status.idle": "2022-11-25T05:28:32.782351Z",
     "shell.execute_reply": "2022-11-25T05:28:32.781266Z"
    },
    "papermill": {
     "duration": 0.133525,
     "end_time": "2022-11-25T05:28:32.784625",
     "exception": false,
     "start_time": "2022-11-25T05:28:32.651100",
     "status": "completed"
    },
    "tags": []
   },
   "outputs": [
    {
     "data": {
      "text/plain": [
       "device(type='cuda')"
      ]
     },
     "execution_count": 8,
     "metadata": {},
     "output_type": "execute_result"
    }
   ],
   "source": [
    "if torch.cuda.is_available():\n",
    "    device = torch.device('cuda')\n",
    "else:\n",
    "    device = torch.device('cpu')\n",
    "    \n",
    "device"
   ]
  },
  {
   "cell_type": "markdown",
   "id": "423b258e",
   "metadata": {
    "papermill": {
     "duration": 0.01116,
     "end_time": "2022-11-25T05:28:32.807516",
     "exception": false,
     "start_time": "2022-11-25T05:28:32.796356",
     "status": "completed"
    },
    "tags": []
   },
   "source": [
    "### 11.3.2 데이터 준비"
   ]
  },
  {
   "cell_type": "code",
   "execution_count": 9,
   "id": "83a7a370",
   "metadata": {
    "execution": {
     "iopub.execute_input": "2022-11-25T05:28:32.833476Z",
     "iopub.status.busy": "2022-11-25T05:28:32.833121Z",
     "iopub.status.idle": "2022-11-25T05:28:33.730969Z",
     "shell.execute_reply": "2022-11-25T05:28:33.729870Z"
    },
    "papermill": {
     "duration": 0.913935,
     "end_time": "2022-11-25T05:28:33.733717",
     "exception": false,
     "start_time": "2022-11-25T05:28:32.819782",
     "status": "completed"
    },
    "tags": []
   },
   "outputs": [],
   "source": [
    "from sklearn.model_selection import train_test_split\n",
    "\n",
    "# 훈련 데이터, 검증 데이터 분리\n",
    "train, valid = train_test_split(labels, \n",
    "                                test_size=0.1,\n",
    "                                stratify=labels['has_cactus'],\n",
    "                                random_state=50)"
   ]
  },
  {
   "cell_type": "code",
   "execution_count": 10,
   "id": "1b88f3bc",
   "metadata": {
    "execution": {
     "iopub.execute_input": "2022-11-25T05:28:33.759132Z",
     "iopub.status.busy": "2022-11-25T05:28:33.758835Z",
     "iopub.status.idle": "2022-11-25T05:28:33.764200Z",
     "shell.execute_reply": "2022-11-25T05:28:33.763245Z"
    },
    "papermill": {
     "duration": 0.020568,
     "end_time": "2022-11-25T05:28:33.767162",
     "exception": false,
     "start_time": "2022-11-25T05:28:33.746594",
     "status": "completed"
    },
    "tags": []
   },
   "outputs": [
    {
     "name": "stdout",
     "output_type": "stream",
     "text": [
      "훈련 데이터 개수: 13050\n",
      "검증 데이터 개수: 1450\n"
     ]
    }
   ],
   "source": [
    "print('훈련 데이터 개수:', len(train))\n",
    "print('검증 데이터 개수:', len(valid))"
   ]
  },
  {
   "cell_type": "markdown",
   "id": "43e1c062",
   "metadata": {
    "papermill": {
     "duration": 0.011353,
     "end_time": "2022-11-25T05:28:33.790816",
     "exception": false,
     "start_time": "2022-11-25T05:28:33.779463",
     "status": "completed"
    },
    "tags": []
   },
   "source": [
    "데이터셋 클래스 정의"
   ]
  },
  {
   "cell_type": "code",
   "execution_count": 11,
   "id": "b45c9af3",
   "metadata": {
    "execution": {
     "iopub.execute_input": "2022-11-25T05:28:33.814360Z",
     "iopub.status.busy": "2022-11-25T05:28:33.814030Z",
     "iopub.status.idle": "2022-11-25T05:28:33.821887Z",
     "shell.execute_reply": "2022-11-25T05:28:33.820914Z"
    },
    "papermill": {
     "duration": 0.022215,
     "end_time": "2022-11-25T05:28:33.824014",
     "exception": false,
     "start_time": "2022-11-25T05:28:33.801799",
     "status": "completed"
    },
    "tags": []
   },
   "outputs": [],
   "source": [
    "import cv2 # OpenCV 라이브러리\n",
    "from torch.utils.data import Dataset # 데이터 생성을 위한 클래스\n",
    "\n",
    "class ImageDataset(Dataset):\n",
    "    # 초기화 메서드(생성자)\n",
    "    def __init__(self, df, img_dir='./', transform=None):\n",
    "        super().__init__() # 상속받은 Dataset의 생성자 호출\n",
    "        # 전달받은 인수들 저장\n",
    "        self.df = df\n",
    "        self.img_dir = img_dir\n",
    "        self.transform = transform\n",
    "    \n",
    "    # 데이터셋 크기 반환 메서드 \n",
    "    def __len__(self):\n",
    "        return len(self.df)\n",
    "    \n",
    "    # 인덱스(idx)에 해당하는 데이터 반환 메서드 \n",
    "    def __getitem__(self, idx):\n",
    "        img_id = self.df.iloc[idx, 0]    # 이미지 ID\n",
    "        img_path = self.img_dir + img_id # 이미지 파일 경로 \n",
    "        image = cv2.imread(img_path)     # 이미지 파일 읽기 \n",
    "        image = cv2.cvtColor(image, cv2.COLOR_BGR2RGB) # 이미지 색상 보정\n",
    "        label = self.df.iloc[idx, 1]     # 이미지 레이블(타깃값)\n",
    "\n",
    "        if self.transform is not None:\n",
    "            image = self.transform(image) # 변환기가 있다면 이미지 변환\n",
    "        return image, label"
   ]
  },
  {
   "cell_type": "markdown",
   "id": "c30881e1",
   "metadata": {
    "papermill": {
     "duration": 0.011279,
     "end_time": "2022-11-25T05:28:33.846352",
     "exception": false,
     "start_time": "2022-11-25T05:28:33.835073",
     "status": "completed"
    },
    "tags": []
   },
   "source": [
    "데이터셋 생성"
   ]
  },
  {
   "cell_type": "code",
   "execution_count": 12,
   "id": "c738fe7c",
   "metadata": {
    "execution": {
     "iopub.execute_input": "2022-11-25T05:28:33.870011Z",
     "iopub.status.busy": "2022-11-25T05:28:33.869715Z",
     "iopub.status.idle": "2022-11-25T05:28:34.109973Z",
     "shell.execute_reply": "2022-11-25T05:28:34.107800Z"
    },
    "papermill": {
     "duration": 0.254572,
     "end_time": "2022-11-25T05:28:34.112249",
     "exception": false,
     "start_time": "2022-11-25T05:28:33.857677",
     "status": "completed"
    },
    "tags": []
   },
   "outputs": [
    {
     "name": "stdout",
     "output_type": "stream",
     "text": [
      "Train Length: 13050, Eval Length: 1450\n"
     ]
    }
   ],
   "source": [
    "from torchvision import transforms # 이미지 변환을 위한 모듈\n",
    "\n",
    "transform = transforms.ToTensor()\n",
    "dataset_train = ImageDataset(df=train, img_dir=path_train+ '/', transform=transform)\n",
    "dataset_valid = ImageDataset(df=valid, img_dir=path_train+ '/', transform=transform)\n",
    "print(\"Train Length: {}, Eval Length: {}\".format(len(dataset_train), len(dataset_valid)))"
   ]
  },
  {
   "cell_type": "code",
   "execution_count": 13,
   "id": "91b025a9",
   "metadata": {
    "execution": {
     "iopub.execute_input": "2022-11-25T05:28:34.136534Z",
     "iopub.status.busy": "2022-11-25T05:28:34.135846Z",
     "iopub.status.idle": "2022-11-25T05:28:37.411647Z",
     "shell.execute_reply": "2022-11-25T05:28:37.409561Z"
    },
    "papermill": {
     "duration": 3.291021,
     "end_time": "2022-11-25T05:28:37.414676",
     "exception": false,
     "start_time": "2022-11-25T05:28:34.123655",
     "status": "completed"
    },
    "tags": []
   },
   "outputs": [
    {
     "name": "stdout",
     "output_type": "stream",
     "text": [
      "408\n",
      "32\n",
      "tensor([[[0.7686, 0.8471, 0.7843,  ..., 0.4863, 0.5216, 0.6314],\n",
      "         [0.7843, 0.7647, 0.7098,  ..., 0.4667, 0.4353, 0.4275],\n",
      "         [0.7725, 0.7333, 0.7059,  ..., 0.5451, 0.4941, 0.4235],\n",
      "         ...,\n",
      "         [0.3451, 0.6784, 0.6706,  ..., 0.5765, 0.5686, 0.5647],\n",
      "         [0.3059, 0.6431, 0.6706,  ..., 0.5765, 0.5725, 0.5686],\n",
      "         [0.2667, 0.5098, 0.4980,  ..., 0.5765, 0.5725, 0.5686]],\n",
      "\n",
      "        [[0.7608, 0.8392, 0.7725,  ..., 0.4275, 0.4627, 0.5725],\n",
      "         [0.7765, 0.7569, 0.6980,  ..., 0.4078, 0.3765, 0.3686],\n",
      "         [0.7686, 0.7294, 0.6941,  ..., 0.4863, 0.4353, 0.3647],\n",
      "         ...,\n",
      "         [0.3098, 0.6431, 0.6353,  ..., 0.5216, 0.5137, 0.5098],\n",
      "         [0.2706, 0.6078, 0.6353,  ..., 0.5216, 0.5176, 0.5137],\n",
      "         [0.2314, 0.4745, 0.4627,  ..., 0.5216, 0.5176, 0.5137]],\n",
      "\n",
      "        [[0.8431, 0.9216, 0.8471,  ..., 0.4392, 0.4745, 0.5843],\n",
      "         [0.8588, 0.8392, 0.7725,  ..., 0.4196, 0.3882, 0.3804],\n",
      "         [0.8392, 0.8000, 0.7686,  ..., 0.4980, 0.4471, 0.3765],\n",
      "         ...,\n",
      "         [0.3294, 0.6627, 0.6549,  ..., 0.5216, 0.5137, 0.5098],\n",
      "         [0.2902, 0.6275, 0.6549,  ..., 0.5216, 0.5176, 0.5137],\n",
      "         [0.2510, 0.4941, 0.4824,  ..., 0.5216, 0.5176, 0.5137]]],\n",
      "       device='cuda:0')\n",
      "tensor(0, device='cuda:0')\n"
     ]
    }
   ],
   "source": [
    "from torch.utils.data import DataLoader # 데이터 로더 클래스\n",
    "\n",
    "loader_train = DataLoader(dataset=dataset_train, batch_size=32, shuffle=True)\n",
    "loader_valid = DataLoader(dataset=dataset_valid, batch_size=32, shuffle=False)\n",
    "\n",
    "print(len(loader_train))\n",
    "for images, labels in loader_train:\n",
    "    print(len(images))\n",
    "    # 이미지, 레이블 데이터 미니배치를 장비에 할당 \n",
    "    images = images.to(device)\n",
    "    labels = labels.to(device)\n",
    "    \n",
    "    print(images[0])\n",
    "    print(labels[0])\n",
    "    \n",
    "    break"
   ]
  },
  {
   "cell_type": "markdown",
   "id": "f78b74db",
   "metadata": {
    "papermill": {
     "duration": 0.011115,
     "end_time": "2022-11-25T05:28:37.437383",
     "exception": false,
     "start_time": "2022-11-25T05:28:37.426268",
     "status": "completed"
    },
    "tags": []
   },
   "source": [
    "### 11.3.3 모델 생성"
   ]
  },
  {
   "cell_type": "code",
   "execution_count": 14,
   "id": "4bb0940c",
   "metadata": {
    "execution": {
     "iopub.execute_input": "2022-11-25T05:28:37.462858Z",
     "iopub.status.busy": "2022-11-25T05:28:37.462000Z",
     "iopub.status.idle": "2022-11-25T05:28:37.471360Z",
     "shell.execute_reply": "2022-11-25T05:28:37.470493Z"
    },
    "papermill": {
     "duration": 0.024477,
     "end_time": "2022-11-25T05:28:37.473180",
     "exception": false,
     "start_time": "2022-11-25T05:28:37.448703",
     "status": "completed"
    },
    "tags": []
   },
   "outputs": [],
   "source": [
    "import torch.nn as nn # 신경망 모듈\n",
    "import torch.nn.functional as F # 신경망 모듈에서 자주 사용되는 함수\n",
    "\n",
    "class Model(nn.Module):\n",
    "    # 신경망 계층 정의 \n",
    "    def __init__(self):\n",
    "        super().__init__() # 상속받은 nn.Module의 __init__() 메서드 호출\n",
    "        \n",
    "        # 첫 번째 합성곱 계층 \n",
    "        self.conv1 = nn.Conv2d(in_channels=3, out_channels=32, \n",
    "                               kernel_size=3, padding=2) \n",
    "        # 두 번째 합성곱 계층 \n",
    "        self.conv2 = nn.Conv2d(in_channels=32, out_channels=64, \n",
    "                               kernel_size=3, padding=2) \n",
    "        # 최대 풀링 계층 \n",
    "        self.max_pool = nn.MaxPool2d(kernel_size=2) \n",
    "        # 평균 풀링 계층 \n",
    "        self.avg_pool = nn.AvgPool2d(kernel_size=2) \n",
    "        # 전결합 계층 \n",
    "        self.fc = nn.Linear(in_features=64 * 4 * 4, out_features=2)\n",
    "        \n",
    "    # 순전파 출력 정의 \n",
    "    def forward(self, x):\n",
    "        x = self.max_pool(F.relu(self.conv1(x)))\n",
    "        x = self.max_pool(F.relu(self.conv2(x)))\n",
    "        x = self.avg_pool(x)\n",
    "        x = x.view(-1, 64 * 4 * 4) # 평탄화\n",
    "        x = self.fc(x)\n",
    "        return x"
   ]
  },
  {
   "cell_type": "code",
   "execution_count": 15,
   "id": "cf0575be",
   "metadata": {
    "execution": {
     "iopub.execute_input": "2022-11-25T05:28:37.498030Z",
     "iopub.status.busy": "2022-11-25T05:28:37.497206Z",
     "iopub.status.idle": "2022-11-25T05:28:37.506468Z",
     "shell.execute_reply": "2022-11-25T05:28:37.505445Z"
    },
    "papermill": {
     "duration": 0.023757,
     "end_time": "2022-11-25T05:28:37.508627",
     "exception": false,
     "start_time": "2022-11-25T05:28:37.484870",
     "status": "completed"
    },
    "tags": []
   },
   "outputs": [
    {
     "data": {
      "text/plain": [
       "Model(\n",
       "  (conv1): Conv2d(3, 32, kernel_size=(3, 3), stride=(1, 1), padding=(2, 2))\n",
       "  (conv2): Conv2d(32, 64, kernel_size=(3, 3), stride=(1, 1), padding=(2, 2))\n",
       "  (max_pool): MaxPool2d(kernel_size=2, stride=2, padding=0, dilation=1, ceil_mode=False)\n",
       "  (avg_pool): AvgPool2d(kernel_size=2, stride=2, padding=0)\n",
       "  (fc): Linear(in_features=1024, out_features=2, bias=True)\n",
       ")"
      ]
     },
     "execution_count": 15,
     "metadata": {},
     "output_type": "execute_result"
    }
   ],
   "source": [
    "model = Model().to(device)\n",
    "\n",
    "model"
   ]
  },
  {
   "cell_type": "markdown",
   "id": "b7538e17",
   "metadata": {
    "execution": {
     "iopub.execute_input": "2022-11-22T03:49:31.496508Z",
     "iopub.status.busy": "2022-11-22T03:49:31.495981Z",
     "iopub.status.idle": "2022-11-22T03:49:31.503017Z",
     "shell.execute_reply": "2022-11-22T03:49:31.50151Z",
     "shell.execute_reply.started": "2022-11-22T03:49:31.496465Z"
    },
    "papermill": {
     "duration": 0.011228,
     "end_time": "2022-11-25T05:28:37.531778",
     "exception": false,
     "start_time": "2022-11-25T05:28:37.520550",
     "status": "completed"
    },
    "tags": []
   },
   "source": [
    "## 11.3.4 모델 훈련"
   ]
  },
  {
   "cell_type": "code",
   "execution_count": 16,
   "id": "5d5a34bb",
   "metadata": {
    "execution": {
     "iopub.execute_input": "2022-11-25T05:28:37.556542Z",
     "iopub.status.busy": "2022-11-25T05:28:37.555750Z",
     "iopub.status.idle": "2022-11-25T05:28:37.560645Z",
     "shell.execute_reply": "2022-11-25T05:28:37.559578Z"
    },
    "papermill": {
     "duration": 0.019406,
     "end_time": "2022-11-25T05:28:37.562655",
     "exception": false,
     "start_time": "2022-11-25T05:28:37.543249",
     "status": "completed"
    },
    "tags": []
   },
   "outputs": [],
   "source": [
    "# 손실함수\n",
    "criterion = nn.CrossEntropyLoss()\n",
    "# 옵티마이저\n",
    "optimizer = torch.optim.SGD(model.parameters(), lr=0.01)"
   ]
  },
  {
   "cell_type": "code",
   "execution_count": 17,
   "id": "409b9dce",
   "metadata": {
    "execution": {
     "iopub.execute_input": "2022-11-25T05:28:37.587310Z",
     "iopub.status.busy": "2022-11-25T05:28:37.586455Z",
     "iopub.status.idle": "2022-11-25T05:32:07.922248Z",
     "shell.execute_reply": "2022-11-25T05:32:07.921038Z"
    },
    "papermill": {
     "duration": 210.35056,
     "end_time": "2022-11-25T05:32:07.924429",
     "exception": false,
     "start_time": "2022-11-25T05:28:37.573869",
     "status": "completed"
    },
    "tags": []
   },
   "outputs": [
    {
     "name": "stdout",
     "output_type": "stream",
     "text": [
      "에폭 [1/10] - 손실값: 0.5292\n",
      "에폭 [2/10] - 손실값: 0.3827\n",
      "에폭 [3/10] - 손실값: 0.2723\n",
      "에폭 [4/10] - 손실값: 0.2301\n",
      "에폭 [5/10] - 손실값: 0.2089\n",
      "에폭 [6/10] - 손실값: 0.1875\n",
      "에폭 [7/10] - 손실값: 0.1769\n",
      "에폭 [8/10] - 손실값: 0.1663\n",
      "에폭 [9/10] - 손실값: 0.1524\n",
      "에폭 [10/10] - 손실값: 0.1471\n"
     ]
    }
   ],
   "source": [
    "epochs = 10 # 총 에폭\n",
    "# 총 에폭만큼 반복\n",
    "for epoch in range(epochs):\n",
    "    epoch_loss = 0 # 에폭별 손실값 초기화\n",
    "    \n",
    "    # '반복 횟수'만큼 반복 \n",
    "    for images, labels in loader_train:\n",
    "        # 이미지, 레이블 데이터 미니배치를 장비에 할당 \n",
    "        images = images.to(device)\n",
    "        labels = labels.to(device)\n",
    "        \n",
    "        # 옵티마이저 내 기울기 초기화\n",
    "        optimizer.zero_grad()\n",
    "        # 순전파 : 이미지 데이터를 신경망 모델의 입력값으로 사용해 출력값 계산\n",
    "        outputs = model(images)\n",
    "        # 손실 함수를 활용해 outputs와 labels의 손실값 계산\n",
    "        loss = criterion(outputs, labels)\n",
    "        # 현재 배치에서의 손실 추가\n",
    "        epoch_loss += loss.item() \n",
    "        # 역전파 수행\n",
    "        loss.backward()\n",
    "        # 가중치 갱신\n",
    "        optimizer.step()\n",
    "        \n",
    "    # 훈련 데이터 손실값 출력\n",
    "    print(f'에폭 [{epoch+1}/{epochs}] - 손실값: {epoch_loss/len(loader_train):.4f}')"
   ]
  },
  {
   "cell_type": "markdown",
   "id": "2d8297eb",
   "metadata": {
    "papermill": {
     "duration": 0.012076,
     "end_time": "2022-11-25T05:32:07.949016",
     "exception": false,
     "start_time": "2022-11-25T05:32:07.936940",
     "status": "completed"
    },
    "tags": []
   },
   "source": [
    "### 11.3.5 성능 검증"
   ]
  },
  {
   "cell_type": "code",
   "execution_count": 18,
   "id": "9661c11e",
   "metadata": {
    "execution": {
     "iopub.execute_input": "2022-11-25T05:32:07.974121Z",
     "iopub.status.busy": "2022-11-25T05:32:07.973827Z",
     "iopub.status.idle": "2022-11-25T05:32:14.342567Z",
     "shell.execute_reply": "2022-11-25T05:32:14.340945Z"
    },
    "papermill": {
     "duration": 6.383956,
     "end_time": "2022-11-25T05:32:14.344739",
     "exception": false,
     "start_time": "2022-11-25T05:32:07.960783",
     "status": "completed"
    },
    "tags": []
   },
   "outputs": [
    {
     "name": "stdout",
     "output_type": "stream",
     "text": [
      "검증 데이터 ROC AUC : 0.9916\n"
     ]
    }
   ],
   "source": [
    "from sklearn.metrics import roc_auc_score # ROC AUC 점수 계산 함수 임포트\n",
    "\n",
    "# 실제값과 예측 확률값을 담을 리스트 초기화\n",
    "true_list = []\n",
    "preds_list = []\n",
    "\n",
    "model.eval() # 모델을 평가 상태로 설정 \n",
    "\n",
    "with torch.no_grad(): # 기울기 계산 비활성화\n",
    "    for images, labels in loader_valid:\n",
    "        # 이미지, 레이블 데이터 미니배치를 장비에 할당 \n",
    "        images = images.to(device)\n",
    "        labels = labels.to(device) \n",
    "        \n",
    "        # 순전파 : 이미지 데이터를 신경망 모델의 입력값으로 사용해 출력값 계산\n",
    "        outputs = model(images)\n",
    "        preds = torch.softmax(outputs.cpu(), dim=1)[:, 1] # 예측 확률  \n",
    "        true = labels.cpu() # 실제값 \n",
    "        # 예측 확률과 실제값을 리스트에 추가\n",
    "        preds_list.extend(preds)\n",
    "        true_list.extend(true)\n",
    "        \n",
    "# 검증 데이터 ROC AUC 점수 계산\n",
    "print(f'검증 데이터 ROC AUC : {roc_auc_score(true_list, preds_list):.4f}')"
   ]
  },
  {
   "cell_type": "code",
   "execution_count": 19,
   "id": "09c1db02",
   "metadata": {
    "execution": {
     "iopub.execute_input": "2022-11-25T05:32:14.371177Z",
     "iopub.status.busy": "2022-11-25T05:32:14.369628Z",
     "iopub.status.idle": "2022-11-25T05:32:14.381265Z",
     "shell.execute_reply": "2022-11-25T05:32:14.380147Z"
    },
    "papermill": {
     "duration": 0.026618,
     "end_time": "2022-11-25T05:32:14.383502",
     "exception": false,
     "start_time": "2022-11-25T05:32:14.356884",
     "status": "completed"
    },
    "tags": []
   },
   "outputs": [
    {
     "data": {
      "text/plain": [
       "[tensor(0.9981),\n",
       " tensor(0.9999),\n",
       " tensor(1.0000),\n",
       " tensor(0.9481),\n",
       " tensor(0.9999),\n",
       " tensor(0.9999),\n",
       " tensor(0.0765),\n",
       " tensor(0.9254),\n",
       " tensor(0.9987),\n",
       " tensor(0.0130)]"
      ]
     },
     "execution_count": 19,
     "metadata": {},
     "output_type": "execute_result"
    }
   ],
   "source": [
    "preds_list[0:10]"
   ]
  },
  {
   "cell_type": "code",
   "execution_count": 20,
   "id": "35e4242f",
   "metadata": {
    "execution": {
     "iopub.execute_input": "2022-11-25T05:32:14.409579Z",
     "iopub.status.busy": "2022-11-25T05:32:14.408713Z",
     "iopub.status.idle": "2022-11-25T05:32:14.416200Z",
     "shell.execute_reply": "2022-11-25T05:32:14.415158Z"
    },
    "papermill": {
     "duration": 0.022789,
     "end_time": "2022-11-25T05:32:14.418601",
     "exception": false,
     "start_time": "2022-11-25T05:32:14.395812",
     "status": "completed"
    },
    "tags": []
   },
   "outputs": [
    {
     "data": {
      "text/plain": [
       "[tensor(1),\n",
       " tensor(1),\n",
       " tensor(1),\n",
       " tensor(1),\n",
       " tensor(1),\n",
       " tensor(1),\n",
       " tensor(0),\n",
       " tensor(1),\n",
       " tensor(1),\n",
       " tensor(0)]"
      ]
     },
     "execution_count": 20,
     "metadata": {},
     "output_type": "execute_result"
    }
   ],
   "source": [
    "true_list[0:10]"
   ]
  },
  {
   "cell_type": "markdown",
   "id": "66a4f994",
   "metadata": {
    "papermill": {
     "duration": 0.012155,
     "end_time": "2022-11-25T05:32:14.442974",
     "exception": false,
     "start_time": "2022-11-25T05:32:14.430819",
     "status": "completed"
    },
    "tags": []
   },
   "source": [
    "### 모델 성능 개선\n",
    "\n",
    "- 성능개선1 : https://www.kaggle.com/code/werooring/ch11-modeling\n",
    "\n",
    "- 성능개선2 : https://www.kaggle.com/code/werooring/ch11-modeling2"
   ]
  },
  {
   "cell_type": "code",
   "execution_count": 21,
   "id": "274306ee",
   "metadata": {
    "execution": {
     "iopub.execute_input": "2022-11-25T05:32:14.468642Z",
     "iopub.status.busy": "2022-11-25T05:32:14.468377Z",
     "iopub.status.idle": "2022-11-25T05:32:14.472661Z",
     "shell.execute_reply": "2022-11-25T05:32:14.471601Z"
    },
    "papermill": {
     "duration": 0.019668,
     "end_time": "2022-11-25T05:32:14.474850",
     "exception": false,
     "start_time": "2022-11-25T05:32:14.455182",
     "status": "completed"
    },
    "tags": []
   },
   "outputs": [],
   "source": [
    "device = torch.device('cuda' if torch.cuda.is_available() else 'cpu')"
   ]
  },
  {
   "cell_type": "code",
   "execution_count": 22,
   "id": "ff1e31dd",
   "metadata": {
    "execution": {
     "iopub.execute_input": "2022-11-25T05:32:14.500091Z",
     "iopub.status.busy": "2022-11-25T05:32:14.499812Z",
     "iopub.status.idle": "2022-11-25T05:32:14.523250Z",
     "shell.execute_reply": "2022-11-25T05:32:14.522125Z"
    },
    "papermill": {
     "duration": 0.038741,
     "end_time": "2022-11-25T05:32:14.525542",
     "exception": false,
     "start_time": "2022-11-25T05:32:14.486801",
     "status": "completed"
    },
    "tags": []
   },
   "outputs": [
    {
     "data": {
      "text/plain": [
       "((14500, 2), (3000, 2))"
      ]
     },
     "execution_count": 22,
     "metadata": {},
     "output_type": "execute_result"
    }
   ],
   "source": [
    "import pandas as pd\n",
    "\n",
    "# 데이터 경로\n",
    "data_path = '../input/2022-2-ds-solution-ch9/'\n",
    "\n",
    "labels = pd.read_csv(data_path + 'train.csv')\n",
    "submission = pd.read_csv(data_path + 'sample_submission.csv')\n",
    "labels.shape, submission.shape"
   ]
  },
  {
   "cell_type": "code",
   "execution_count": 23,
   "id": "0d6b5e75",
   "metadata": {
    "execution": {
     "iopub.execute_input": "2022-11-25T05:32:14.551582Z",
     "iopub.status.busy": "2022-11-25T05:32:14.550801Z",
     "iopub.status.idle": "2022-11-25T05:32:14.562306Z",
     "shell.execute_reply": "2022-11-25T05:32:14.561269Z"
    },
    "papermill": {
     "duration": 0.026722,
     "end_time": "2022-11-25T05:32:14.564539",
     "exception": false,
     "start_time": "2022-11-25T05:32:14.537817",
     "status": "completed"
    },
    "tags": []
   },
   "outputs": [],
   "source": [
    "from sklearn.model_selection import train_test_split\n",
    "\n",
    "# 훈련 데이터, 검증 데이터 분리\n",
    "train, valid = train_test_split(labels, \n",
    "                                test_size=0.1,\n",
    "                                stratify=labels['has_cactus'],\n",
    "                                random_state=50)"
   ]
  },
  {
   "cell_type": "code",
   "execution_count": 24,
   "id": "5235d155",
   "metadata": {
    "execution": {
     "iopub.execute_input": "2022-11-25T05:32:14.590030Z",
     "iopub.status.busy": "2022-11-25T05:32:14.589763Z",
     "iopub.status.idle": "2022-11-25T05:32:14.597703Z",
     "shell.execute_reply": "2022-11-25T05:32:14.596699Z"
    },
    "papermill": {
     "duration": 0.023094,
     "end_time": "2022-11-25T05:32:14.599950",
     "exception": false,
     "start_time": "2022-11-25T05:32:14.576856",
     "status": "completed"
    },
    "tags": []
   },
   "outputs": [],
   "source": [
    "import cv2 # OpenCV 라이브러리\n",
    "from torch.utils.data import Dataset # 데이터 생성을 위한 클래스\n",
    "\n",
    "class ImageDataset(Dataset):\n",
    "    # 초기화 메서드(생성자)\n",
    "    def __init__(self, df, img_dir='./', transform=None):\n",
    "        super().__init__() # 상속받은 Dataset의 생성자 호출\n",
    "        # 전달받은 인수들 저장\n",
    "        self.df = df\n",
    "        self.img_dir = img_dir\n",
    "        self.transform = transform\n",
    "    \n",
    "    # 데이터셋 크기 반환 메서드 \n",
    "    def __len__(self):\n",
    "        return len(self.df)\n",
    "    \n",
    "    # 인덱스(idx)에 해당하는 데이터 반환 메서드 \n",
    "    def __getitem__(self, idx):\n",
    "        img_id = self.df.iloc[idx, 0]    # 이미지 ID\n",
    "        img_path = self.img_dir + img_id # 이미지 파일 경로 \n",
    "        image = cv2.imread(img_path)     # 이미지 파일 읽기 \n",
    "        image = cv2.cvtColor(image, cv2.COLOR_BGR2RGB) # 이미지 색상 보정\n",
    "        label = self.df.iloc[idx, 1]     # 이미지 레이블(타깃값)\n",
    "\n",
    "        if self.transform is not None:\n",
    "            image = self.transform(image) # 변환기가 있다면 이미지 변환\n",
    "        return image, label"
   ]
  },
  {
   "cell_type": "code",
   "execution_count": 25,
   "id": "b1d642f1",
   "metadata": {
    "execution": {
     "iopub.execute_input": "2022-11-25T05:32:14.624769Z",
     "iopub.status.busy": "2022-11-25T05:32:14.624499Z",
     "iopub.status.idle": "2022-11-25T05:32:14.631940Z",
     "shell.execute_reply": "2022-11-25T05:32:14.630895Z"
    },
    "papermill": {
     "duration": 0.022297,
     "end_time": "2022-11-25T05:32:14.634086",
     "exception": false,
     "start_time": "2022-11-25T05:32:14.611789",
     "status": "completed"
    },
    "tags": []
   },
   "outputs": [],
   "source": [
    "from torchvision import transforms # 이미지 변환을 위한 모듈\n",
    "\n",
    "# 훈련 데이터용 변환기\n",
    "transform_train = transforms.Compose([transforms.ToTensor(),\n",
    "                                      transforms.Pad(32, padding_mode='symmetric'),\n",
    "                                      transforms.RandomHorizontalFlip(),\n",
    "                                      transforms.RandomVerticalFlip(),\n",
    "                                      transforms.RandomRotation(10),\n",
    "                                      transforms.Normalize((0.485, 0.456, 0.406),\n",
    "                                                           (0.229, 0.224, 0.225))])\n",
    "\n",
    "# 검증 및 테스트 데이터용 변환기\n",
    "transform_test= transforms.Compose([transforms.ToTensor(),\n",
    "                                    transforms.Pad(32, padding_mode='symmetric'),\n",
    "                                    transforms.Normalize((0.485, 0.456, 0.406),\n",
    "                                                         (0.229, 0.224, 0.225))])"
   ]
  },
  {
   "cell_type": "code",
   "execution_count": 26,
   "id": "af32d4ee",
   "metadata": {
    "execution": {
     "iopub.execute_input": "2022-11-25T05:32:14.658728Z",
     "iopub.status.busy": "2022-11-25T05:32:14.658479Z",
     "iopub.status.idle": "2022-11-25T05:32:14.663249Z",
     "shell.execute_reply": "2022-11-25T05:32:14.662332Z"
    },
    "papermill": {
     "duration": 0.019347,
     "end_time": "2022-11-25T05:32:14.665277",
     "exception": false,
     "start_time": "2022-11-25T05:32:14.645930",
     "status": "completed"
    },
    "tags": []
   },
   "outputs": [],
   "source": [
    "dataset_train = ImageDataset(df=train, img_dir=path_train + '/', transform=transform_train)\n",
    "dataset_valid = ImageDataset(df=valid, img_dir=path_train + '/', transform=transform_test)"
   ]
  },
  {
   "cell_type": "code",
   "execution_count": 27,
   "id": "5197b821",
   "metadata": {
    "execution": {
     "iopub.execute_input": "2022-11-25T05:32:14.690347Z",
     "iopub.status.busy": "2022-11-25T05:32:14.690046Z",
     "iopub.status.idle": "2022-11-25T05:32:14.696706Z",
     "shell.execute_reply": "2022-11-25T05:32:14.695896Z"
    },
    "papermill": {
     "duration": 0.02161,
     "end_time": "2022-11-25T05:32:14.698712",
     "exception": false,
     "start_time": "2022-11-25T05:32:14.677102",
     "status": "completed"
    },
    "tags": []
   },
   "outputs": [],
   "source": [
    "from torch.utils.data import DataLoader # 데이터 로더 클래스\n",
    "\n",
    "loader_train = DataLoader(dataset=dataset_train, batch_size=32, shuffle=True)\n",
    "loader_valid = DataLoader(dataset=dataset_valid, batch_size=32, shuffle=False)"
   ]
  },
  {
   "cell_type": "code",
   "execution_count": 28,
   "id": "206ef4bb",
   "metadata": {
    "execution": {
     "iopub.execute_input": "2022-11-25T05:32:14.723515Z",
     "iopub.status.busy": "2022-11-25T05:32:14.723250Z",
     "iopub.status.idle": "2022-11-25T05:32:14.735158Z",
     "shell.execute_reply": "2022-11-25T05:32:14.734275Z"
    },
    "papermill": {
     "duration": 0.026694,
     "end_time": "2022-11-25T05:32:14.737142",
     "exception": false,
     "start_time": "2022-11-25T05:32:14.710448",
     "status": "completed"
    },
    "tags": []
   },
   "outputs": [],
   "source": [
    "import torch.nn as nn # 신경망 모듈\n",
    "import torch.nn.functional as F # 신경망 모듈에서 자주 사용되는 함수\n",
    "\n",
    "class Model(nn.Module):\n",
    "    # 신경망 계층 정의\n",
    "    def __init__(self):\n",
    "        super().__init__() # 상속받은 nn.Module의 __init__() 메서드 호출\n",
    "        # 1 ~ 5번째 {합성곱, 배치 정규화, 최대 풀링} 계층 \n",
    "        self.layer1 = nn.Sequential(nn.Conv2d(in_channels=3, out_channels=32,\n",
    "                                              kernel_size=3, padding=2),\n",
    "                                    nn.BatchNorm2d(32), # 배치 정규화\n",
    "                                    nn.LeakyReLU(), # LeakyReLU 활성화 함수\n",
    "                                    nn.MaxPool2d(kernel_size=2))\n",
    "\n",
    "        self.layer2 = nn.Sequential(nn.Conv2d(in_channels=32, out_channels=64,\n",
    "                                              kernel_size=3, padding=2),\n",
    "                                    nn.BatchNorm2d(64),\n",
    "                                    nn.LeakyReLU(),\n",
    "                                    nn.MaxPool2d(kernel_size=2))\n",
    "        self.layer3 = nn.Sequential(nn.Conv2d(in_channels=64, out_channels=128,\n",
    "                                              kernel_size=3, padding=2),\n",
    "                                    nn.BatchNorm2d(128),\n",
    "                                    nn.LeakyReLU(),\n",
    "                                    nn.MaxPool2d(kernel_size=2))\n",
    "        \n",
    "        self.layer4 = nn.Sequential(nn.Conv2d(in_channels=128, out_channels=256,\n",
    "                                              kernel_size=3, padding=2),\n",
    "                                    nn.BatchNorm2d(256),\n",
    "                                    nn.LeakyReLU(),\n",
    "                                    nn.MaxPool2d(kernel_size=2))\n",
    "        \n",
    "        self.layer5 = nn.Sequential(nn.Conv2d(in_channels=256, out_channels=512,\n",
    "                                              kernel_size=3, padding=2),\n",
    "                                    nn.BatchNorm2d(512),\n",
    "                                    nn.LeakyReLU(),\n",
    "                                    nn.MaxPool2d(kernel_size=2))\n",
    "        # 평균 풀링 계층 \n",
    "        self.avg_pool = nn.AvgPool2d(kernel_size=4) \n",
    "        # 전결합 계층\n",
    "        self.fc1 = nn.Linear(in_features=512 * 1 * 1, out_features=64)\n",
    "        self.fc2 = nn.Linear(in_features=64, out_features=2)\n",
    "\n",
    "    # 순전파 출력 정의 \n",
    "    def forward(self, x):\n",
    "        x = self.layer1(x)\n",
    "        x = self.layer2(x)\n",
    "        x = self.layer3(x)\n",
    "        x = self.layer4(x)\n",
    "        x = self.layer5(x)\n",
    "        x = self.avg_pool(x)\n",
    "        x = x.view(-1, 512 * 1 * 1) # 평탄화\n",
    "        x = self.fc1(x)\n",
    "        x = self.fc2(x)\n",
    "        return x"
   ]
  },
  {
   "cell_type": "code",
   "execution_count": 29,
   "id": "8c46e489",
   "metadata": {
    "execution": {
     "iopub.execute_input": "2022-11-25T05:32:14.762046Z",
     "iopub.status.busy": "2022-11-25T05:32:14.761748Z",
     "iopub.status.idle": "2022-11-25T05:32:14.785724Z",
     "shell.execute_reply": "2022-11-25T05:32:14.784880Z"
    },
    "papermill": {
     "duration": 0.03882,
     "end_time": "2022-11-25T05:32:14.787867",
     "exception": false,
     "start_time": "2022-11-25T05:32:14.749047",
     "status": "completed"
    },
    "tags": []
   },
   "outputs": [],
   "source": [
    "model = Model().to(device)"
   ]
  },
  {
   "cell_type": "code",
   "execution_count": 30,
   "id": "14c9fb31",
   "metadata": {
    "execution": {
     "iopub.execute_input": "2022-11-25T05:32:14.813923Z",
     "iopub.status.busy": "2022-11-25T05:32:14.813663Z",
     "iopub.status.idle": "2022-11-25T05:32:14.818078Z",
     "shell.execute_reply": "2022-11-25T05:32:14.817113Z"
    },
    "papermill": {
     "duration": 0.01963,
     "end_time": "2022-11-25T05:32:14.820047",
     "exception": false,
     "start_time": "2022-11-25T05:32:14.800417",
     "status": "completed"
    },
    "tags": []
   },
   "outputs": [],
   "source": [
    "# 손실 함수\n",
    "criterion = nn.CrossEntropyLoss()\n",
    "\n",
    "# 옵티마이저\n",
    "optimizer = torch.optim.Adamax(model.parameters(), lr=0.00006)"
   ]
  },
  {
   "cell_type": "code",
   "execution_count": 31,
   "id": "0fb8e432",
   "metadata": {
    "execution": {
     "iopub.execute_input": "2022-11-25T05:32:14.845072Z",
     "iopub.status.busy": "2022-11-25T05:32:14.844822Z",
     "iopub.status.idle": "2022-11-25T06:23:54.991128Z",
     "shell.execute_reply": "2022-11-25T06:23:54.990053Z"
    },
    "papermill": {
     "duration": 3100.186141,
     "end_time": "2022-11-25T06:23:55.017972",
     "exception": false,
     "start_time": "2022-11-25T05:32:14.831831",
     "status": "completed"
    },
    "tags": []
   },
   "outputs": [
    {
     "name": "stdout",
     "output_type": "stream",
     "text": [
      "에폭 [1/70] - 손실값: 0.1255\n",
      "에폭 [2/70] - 손실값: 0.0681\n",
      "에폭 [3/70] - 손실값: 0.0551\n",
      "에폭 [4/70] - 손실값: 0.0449\n",
      "에폭 [5/70] - 손실값: 0.0414\n",
      "에폭 [6/70] - 손실값: 0.0364\n",
      "에폭 [7/70] - 손실값: 0.0343\n",
      "에폭 [8/70] - 손실값: 0.0278\n",
      "에폭 [9/70] - 손실값: 0.0263\n",
      "에폭 [10/70] - 손실값: 0.0268\n",
      "에폭 [11/70] - 손실값: 0.0240\n",
      "에폭 [12/70] - 손실값: 0.0218\n",
      "에폭 [13/70] - 손실값: 0.0193\n",
      "에폭 [14/70] - 손실값: 0.0203\n",
      "에폭 [15/70] - 손실값: 0.0207\n",
      "에폭 [16/70] - 손실값: 0.0166\n",
      "에폭 [17/70] - 손실값: 0.0176\n",
      "에폭 [18/70] - 손실값: 0.0176\n",
      "에폭 [19/70] - 손실값: 0.0136\n",
      "에폭 [20/70] - 손실값: 0.0169\n",
      "에폭 [21/70] - 손실값: 0.0142\n",
      "에폭 [22/70] - 손실값: 0.0161\n",
      "에폭 [23/70] - 손실값: 0.0149\n",
      "에폭 [24/70] - 손실값: 0.0134\n",
      "에폭 [25/70] - 손실값: 0.0143\n",
      "에폭 [26/70] - 손실값: 0.0124\n",
      "에폭 [27/70] - 손실값: 0.0106\n",
      "에폭 [28/70] - 손실값: 0.0110\n",
      "에폭 [29/70] - 손실값: 0.0118\n",
      "에폭 [30/70] - 손실값: 0.0106\n",
      "에폭 [31/70] - 손실값: 0.0096\n",
      "에폭 [32/70] - 손실값: 0.0103\n",
      "에폭 [33/70] - 손실값: 0.0097\n",
      "에폭 [34/70] - 손실값: 0.0090\n",
      "에폭 [35/70] - 손실값: 0.0093\n",
      "에폭 [36/70] - 손실값: 0.0099\n",
      "에폭 [37/70] - 손실값: 0.0096\n",
      "에폭 [38/70] - 손실값: 0.0096\n",
      "에폭 [39/70] - 손실값: 0.0090\n",
      "에폭 [40/70] - 손실값: 0.0078\n",
      "에폭 [41/70] - 손실값: 0.0087\n",
      "에폭 [42/70] - 손실값: 0.0080\n",
      "에폭 [43/70] - 손실값: 0.0076\n",
      "에폭 [44/70] - 손실값: 0.0072\n",
      "에폭 [45/70] - 손실값: 0.0077\n",
      "에폭 [46/70] - 손실값: 0.0077\n",
      "에폭 [47/70] - 손실값: 0.0078\n",
      "에폭 [48/70] - 손실값: 0.0052\n",
      "에폭 [49/70] - 손실값: 0.0068\n",
      "에폭 [50/70] - 손실값: 0.0056\n",
      "에폭 [51/70] - 손실값: 0.0066\n",
      "에폭 [52/70] - 손실값: 0.0058\n",
      "에폭 [53/70] - 손실값: 0.0058\n",
      "에폭 [54/70] - 손실값: 0.0052\n",
      "에폭 [55/70] - 손실값: 0.0045\n",
      "에폭 [56/70] - 손실값: 0.0046\n",
      "에폭 [57/70] - 손실값: 0.0054\n",
      "에폭 [58/70] - 손실값: 0.0048\n",
      "에폭 [59/70] - 손실값: 0.0043\n",
      "에폭 [60/70] - 손실값: 0.0045\n",
      "에폭 [61/70] - 손실값: 0.0055\n",
      "에폭 [62/70] - 손실값: 0.0065\n",
      "에폭 [63/70] - 손실값: 0.0045\n",
      "에폭 [64/70] - 손실값: 0.0037\n",
      "에폭 [65/70] - 손실값: 0.0041\n",
      "에폭 [66/70] - 손실값: 0.0036\n",
      "에폭 [67/70] - 손실값: 0.0057\n",
      "에폭 [68/70] - 손실값: 0.0044\n",
      "에폭 [69/70] - 손실값: 0.0035\n",
      "에폭 [70/70] - 손실값: 0.0047\n"
     ]
    }
   ],
   "source": [
    "epochs = 70 # 총 에폭\n",
    "\n",
    "# 총 에폭만큼 반복\n",
    "for epoch in range(epochs):\n",
    "    epoch_loss = 0 # 에폭별 손실값 초기화\n",
    "    \n",
    "    # '반복 횟수'만큼 반복 \n",
    "    for images, labels in loader_train:\n",
    "        # 이미지, 레이블 데이터 미니배치를 장비에 할당 \n",
    "        images = images.to(device)\n",
    "        labels = labels.to(device)\n",
    "        \n",
    "        # 옵티마이저 내 기울기 초기화\n",
    "        optimizer.zero_grad()\n",
    "        # 순전파 : 이미지 데이터를 신경망 모델의 입력값으로 사용해 출력값 계산\n",
    "        outputs = model(images)\n",
    "        # 손실 함수를 활용해 outputs와 labels의 손실값 계산\n",
    "        loss = criterion(outputs, labels)\n",
    "        # 현재 배치에서의 손실 추가\n",
    "        epoch_loss += loss.item() \n",
    "        # 역전파 수행\n",
    "        loss.backward()\n",
    "        # 가중치 갱신\n",
    "        optimizer.step()\n",
    "        \n",
    "    print(f'에폭 [{epoch+1}/{epochs}] - 손실값: {epoch_loss/len(loader_train):.4f}')"
   ]
  },
  {
   "cell_type": "code",
   "execution_count": 32,
   "id": "15f0990e",
   "metadata": {
    "execution": {
     "iopub.execute_input": "2022-11-25T06:23:55.053825Z",
     "iopub.status.busy": "2022-11-25T06:23:55.053012Z",
     "iopub.status.idle": "2022-11-25T06:23:59.550830Z",
     "shell.execute_reply": "2022-11-25T06:23:59.549281Z"
    },
    "papermill": {
     "duration": 4.516898,
     "end_time": "2022-11-25T06:23:59.552998",
     "exception": false,
     "start_time": "2022-11-25T06:23:55.036100",
     "status": "completed"
    },
    "tags": []
   },
   "outputs": [
    {
     "name": "stdout",
     "output_type": "stream",
     "text": [
      "검증 데이터 ROC AUC : 0.9982\n"
     ]
    }
   ],
   "source": [
    "from sklearn.metrics import roc_auc_score # ROC AUC 점수 계산 함수 임포트\n",
    "\n",
    "# 실제값과 예측 확률값을 담을 리스트 초기화\n",
    "true_list = []\n",
    "preds_list = []\n",
    "\n",
    "model.eval() # 모델을 평가 상태로 설정 \n",
    "\n",
    "with torch.no_grad(): # 기울기 계산 비활성화\n",
    "    for images, labels in loader_valid:\n",
    "        # 이미지, 레이블 데이터 미니배치를 장비에 할당 \n",
    "        images = images.to(device)\n",
    "        labels = labels.to(device)\n",
    "        \n",
    "        # 순전파 : 이미지 데이터를 신경망 모델의 입력값으로 사용해 출력값 계산\n",
    "        outputs = model(images)\n",
    "        preds = torch.softmax(outputs.cpu(), dim=1)[:, 1] # 예측 확률값\n",
    "        true = labels.cpu() # 실제값 \n",
    "        # 예측 확률값과 실제값을 리스트에 추가\n",
    "        preds_list.extend(preds)\n",
    "        true_list.extend(true)\n",
    "        \n",
    "# 검증 데이터 ROC AUC 점수 계산 \n",
    "print(f'검증 데이터 ROC AUC : {roc_auc_score(true_list, preds_list):.4f}') "
   ]
  },
  {
   "cell_type": "code",
   "execution_count": 33,
   "id": "5901509e",
   "metadata": {
    "execution": {
     "iopub.execute_input": "2022-11-25T06:23:59.588678Z",
     "iopub.status.busy": "2022-11-25T06:23:59.588373Z",
     "iopub.status.idle": "2022-11-25T06:24:19.323049Z",
     "shell.execute_reply": "2022-11-25T06:24:19.321949Z"
    },
    "papermill": {
     "duration": 19.755409,
     "end_time": "2022-11-25T06:24:19.325898",
     "exception": false,
     "start_time": "2022-11-25T06:23:59.570489",
     "status": "completed"
    },
    "tags": []
   },
   "outputs": [],
   "source": [
    "dataset_test = ImageDataset(df=submission, img_dir=path_test + '/', \n",
    "                            transform=transform_test)\n",
    "loader_test = DataLoader(dataset=dataset_test, batch_size=32, shuffle=False)\n",
    "\n",
    "# 예측 수행\n",
    "model.eval() # 모델을 평가 상태로 설정\n",
    "\n",
    "preds = [] # 타깃 예측값 저장용 리스트 초기화\n",
    "\n",
    "with torch.no_grad(): # 기울기 계산 비활성화\n",
    "    for images, _ in loader_test:\n",
    "        # 이미지 데이터 미니배치를 장비에 할당\n",
    "        images = images.to(device)\n",
    "        \n",
    "        # 순전파 : 이미지 데이터를 신경망 모델의 입력값으로 사용해 출력값 계산\n",
    "        outputs = model(images)\n",
    "        # 타깃값이 1일 확률(예측값)\n",
    "        preds_part = torch.softmax(outputs.cpu(), dim=1)[:, 1].tolist()\n",
    "        # preds에 preds_part 이어붙이기\n",
    "        preds.extend(preds_part)"
   ]
  },
  {
   "cell_type": "code",
   "execution_count": 34,
   "id": "452953a3",
   "metadata": {
    "execution": {
     "iopub.execute_input": "2022-11-25T06:24:19.360197Z",
     "iopub.status.busy": "2022-11-25T06:24:19.358641Z",
     "iopub.status.idle": "2022-11-25T06:24:19.376811Z",
     "shell.execute_reply": "2022-11-25T06:24:19.375889Z"
    },
    "papermill": {
     "duration": 0.036779,
     "end_time": "2022-11-25T06:24:19.379055",
     "exception": false,
     "start_time": "2022-11-25T06:24:19.342276",
     "status": "completed"
    },
    "tags": []
   },
   "outputs": [],
   "source": [
    "submission['has_cactus'] = preds\n",
    "submission.to_csv('submission.csv', index=False)"
   ]
  }
 ],
 "metadata": {
  "kernelspec": {
   "display_name": "Python 3",
   "language": "python",
   "name": "python3"
  },
  "language_info": {
   "codemirror_mode": {
    "name": "ipython",
    "version": 3
   },
   "file_extension": ".py",
   "mimetype": "text/x-python",
   "name": "python",
   "nbconvert_exporter": "python",
   "pygments_lexer": "ipython3",
   "version": "3.7.12"
  },
  "papermill": {
   "default_parameters": {},
   "duration": 3362.616495,
   "end_time": "2022-11-25T06:24:20.924083",
   "environment_variables": {},
   "exception": null,
   "input_path": "__notebook__.ipynb",
   "output_path": "__notebook__.ipynb",
   "parameters": {},
   "start_time": "2022-11-25T05:28:18.307588",
   "version": "2.3.4"
  }
 },
 "nbformat": 4,
 "nbformat_minor": 5
}
